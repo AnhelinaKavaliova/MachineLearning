{
  "nbformat": 4,
  "nbformat_minor": 0,
  "metadata": {
    "colab": {
      "provenance": [],
      "authorship_tag": "ABX9TyM7nZPyvEm4Pphjkijem/Gz",
      "include_colab_link": true
    },
    "kernelspec": {
      "name": "python3",
      "display_name": "Python 3"
    },
    "language_info": {
      "name": "python"
    }
  },
  "cells": [
    {
      "cell_type": "markdown",
      "metadata": {
        "id": "view-in-github",
        "colab_type": "text"
      },
      "source": [
        "<a href=\"https://colab.research.google.com/github/AnhelinaKavaliova/MachineLearning/blob/main/lab1.ipynb\" target=\"_parent\"><img src=\"https://colab.research.google.com/assets/colab-badge.svg\" alt=\"Open In Colab\"/></a>"
      ]
    },
    {
      "cell_type": "markdown",
      "source": [
        "Вывести на экран 51 просто число"
      ],
      "metadata": {
        "id": "93WT9cJRHs7f"
      }
    },
    {
      "cell_type": "code",
      "execution_count": null,
      "metadata": {
        "id": "KMxskBofeoqi"
      },
      "outputs": [],
      "source": [
        "print(\"51\")"
      ]
    },
    {
      "cell_type": "markdown",
      "source": [
        "На вход программе подается строка текста. Напишите программу,\n",
        "которая выводит на экран символ, который появляется наиболее часто.\n",
        "Вывести строку в обратном порядке"
      ],
      "metadata": {
        "id": "mF1IZUpUHz11"
      }
    },
    {
      "cell_type": "code",
      "source": [
        "count = 0\n",
        "symbol = ''\n",
        "text = input(\"Введите строку: \")\n",
        "reverse_text = text[::-1]\n",
        "\n",
        "for i in range(len(text)):\n",
        "  max = text.count(text[i])\n",
        "  if max > count:\n",
        "    count = max\n",
        "    symbol = text[i]\n",
        "\n",
        "print(f\"Наиболее частый символ: {symbol}\")\n",
        "print(f\"Строка в обратном порядке: {reverse_text}\")\n",
        "\n",
        "\n",
        "\n"
      ],
      "metadata": {
        "id": "yN43LsPkH5Z-"
      },
      "execution_count": null,
      "outputs": []
    },
    {
      "cell_type": "markdown",
      "source": [
        "Дан список list=[13,56,'Python',34,19,'love’].\n",
        "Все числа этого списка проверить на чётность. Если число чётное, то\n",
        "посчитать произведение его цифр. Если нечётное, то заменить его на 1\n",
        "в списке"
      ],
      "metadata": {
        "id": "U73NetGXIHPM"
      }
    },
    {
      "cell_type": "code",
      "source": [
        "my_list = [13, 56, 'Python', 34, 19, 'love']\n",
        "\n",
        "for i in range(len(my_list)):\n",
        "    if isinstance(my_list[i], int):\n",
        "        if my_list[i] % 2 == 0:\n",
        "            num_str = str(my_list[i])\n",
        "            product = 1\n",
        "            for char in num_str:\n",
        "                product *= int(char)\n",
        "            my_list[i] = product\n",
        "        else:\n",
        "            my_list[i] = 1\n",
        "\n",
        "print(my_list)\n"
      ],
      "metadata": {
        "id": "vqxHW7_lIJ8s"
      },
      "execution_count": null,
      "outputs": []
    },
    {
      "cell_type": "markdown",
      "source": [
        "Найдите три ключа с самыми маленькими значениями в\n",
        "словаре my_dict = {'a':50, 'b':5, 'c': 56,'d':4, 'e':58, 'f': 20}"
      ],
      "metadata": {
        "id": "lFw9QO0xIKb3"
      }
    },
    {
      "cell_type": "code",
      "source": [
        "my_dict = {'a':50, 'b':5, 'c':56, 'd':4, 'e':58, 'f':20}\n",
        "min_keys = sorted(my_dict, key = my_dict.get) [:3]\n",
        "print(min_keys)"
      ],
      "metadata": {
        "id": "nDs-i8uyIM9C",
        "colab": {
          "base_uri": "https://localhost:8080/"
        },
        "outputId": "ec39bd84-e62c-4ffe-fb22-a3e6dd5de48b"
      },
      "execution_count": 11,
      "outputs": [
        {
          "output_type": "stream",
          "name": "stdout",
          "text": [
            "['d', 'b', 'f']\n"
          ]
        }
      ]
    },
    {
      "cell_type": "markdown",
      "source": [
        "Реализуйте программу «Магазин игрушек», которая будет\n",
        "включать в себя шесть пунктов меню. У вас есть словарь, где ключ –\n",
        "название игрушки. Значение – список, который содержит состав\n",
        "игрушки, цену и кол-во (шт),которое есть в магазине.\n",
        "1. Просмотр описания: название – описание\n",
        "2. Просмотр цены: название – цена.\n",
        "3. Просмотр количества: название – количество.\n",
        "4. Всю информацию.\n",
        "5. Покупка\n",
        "В пункте «Покупка» необходимо совершить покупку, с\n",
        "клавиатуры вводите название игрушки и его кол-во, n – выход из\n",
        "программы. Посчитать цену выбранных товаров и сколько товаров\n",
        "осталось в изначальном списке.\n",
        "6. До свидания"
      ],
      "metadata": {
        "id": "9dZBt-BSINsh"
      }
    },
    {
      "cell_type": "code",
      "source": [
        "toys = {\n",
        "    'мяч': ['футбольный', 15, 10],\n",
        "    'кукла': ['пластиковая', 30, 15],\n",
        "    'машинка': ['радиоуправляемая', 100, 5],\n",
        "    'пазл': ['деревянный', 10, 20]\n",
        "}\n",
        "\n",
        "def show_description():\n",
        "    toy = input(\"Введите название игрушки: \")\n",
        "    if toy in toys:\n",
        "        print(f\"Описание игрушки {toy}: {toys[toy][0]}\")\n",
        "    else:\n",
        "        print(\"Такой игрушки нет в магазине.\")\n",
        "\n",
        "def show_price():\n",
        "    toy = input(\"Введите название игрушки: \")\n",
        "    if toy in toys:\n",
        "        print(f\"Цена игрушки {toy}: {toys[toy][1]} рублей\")\n",
        "    else:\n",
        "        print(\"Такой игрушки нет в магазине.\")\n",
        "\n",
        "def show_count():\n",
        "    toy = input(\"Введите название игрушки: \")\n",
        "    if toy in toys:\n",
        "        print(f\"Количество игрушки {toy}: {toys[toy][2]} штук\")\n",
        "    else:\n",
        "        print(\"Такой игрушки нет в магазине.\")\n",
        "\n",
        "def show_all_info():\n",
        "    print(\"Вся информация:\")\n",
        "    for toy, details in toys.items():\n",
        "        print(f\"Игрушка: {toy}, описание: {details[0]}, цена: {details[1]} рублей, количество: {details[2]} штук\")\n",
        "\n",
        "def buy_toy():\n",
        "    price = 0\n",
        "    while True:\n",
        "        toy = input(\"Введите название игрушки (или 'n' для выхода): \")\n",
        "        if toy == 'n':\n",
        "            break\n",
        "        elif toy in toys:\n",
        "            count = int(input(\"Введите количество: \"))\n",
        "            if count <= toys[toy][2]:\n",
        "                toys[toy][2] -= count\n",
        "                print(f\"В магазине осталось {toys[toy][2]} штук\")\n",
        "                price += toys[toy][1]*count\n",
        "                print(f\"С вас {toys[toy][1]*count} рублей за товар.\")\n",
        "                print(f\"С вас {price} рублей за корзину.\")\n",
        "                choice = input(\"Желаете выбрать ещё один товар?:\\n1. Да\\n2. Нет\\n\")\n",
        "                if choice == 2:\n",
        "                  return False;\n",
        "            else:\n",
        "                print(\"Недостаточно товара на складе.\")\n",
        "        else:\n",
        "            print(\"Такой игрушки нет в магазине.\")\n",
        "\n",
        "def farewell():\n",
        "    print(\"До свидания!\")\n",
        "\n",
        "while True:\n",
        "    print(\"\\nМеню:\")\n",
        "    print(\"1. Просмотр описания\")\n",
        "    print(\"2. Просмотр цены\")\n",
        "    print(\"3. Просмотр количества\")\n",
        "    print(\"4. Вся информация\")\n",
        "    print(\"5. Покупка\")\n",
        "    print(\"6. До свидания\")\n",
        "\n",
        "    choice = input(\"Выберите пункт меню: \")\n",
        "\n",
        "    if choice == '1':\n",
        "        show_description()\n",
        "    elif choice == '2':\n",
        "        show_price()\n",
        "    elif choice == '3':\n",
        "        show_count()\n",
        "    elif choice == '4':\n",
        "        show_all_info()\n",
        "    elif choice == '5':\n",
        "        buy_toy()\n",
        "    elif choice == '6':\n",
        "        farewell()\n",
        "        break\n",
        "    else:\n",
        "        print(\"Неверный ввод. Пожалуйста, выберите существующий пункт меню.\")\n",
        "\n"
      ],
      "metadata": {
        "id": "b3YNocLnIRkA"
      },
      "execution_count": null,
      "outputs": []
    },
    {
      "cell_type": "markdown",
      "source": [
        "Дан кортеж целых чисел. Найти сумму четных элементов"
      ],
      "metadata": {
        "id": "cmNbSI_wITxA"
      }
    },
    {
      "cell_type": "code",
      "source": [
        "my_tuple = (1, 2, 3, 4, 5, 6, 7, 8, 9, 10)\n",
        "sum_of_even = 0\n",
        "for num in my_tuple:\n",
        "    if num % 2 == 0:\n",
        "        sum_of_even += num\n",
        "print(\"Сумма четных элементов:\", sum_of_even)"
      ],
      "metadata": {
        "id": "oWnLarKNIUvN"
      },
      "execution_count": null,
      "outputs": []
    }
  ]
}