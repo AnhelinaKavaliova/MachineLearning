{
  "nbformat": 4,
  "nbformat_minor": 0,
  "metadata": {
    "colab": {
      "provenance": [],
      "authorship_tag": "ABX9TyMm2V9syjNkZvRvRYr+OBVo",
      "include_colab_link": true
    },
    "kernelspec": {
      "name": "python3",
      "display_name": "Python 3"
    },
    "language_info": {
      "name": "python"
    }
  },
  "cells": [
    {
      "cell_type": "markdown",
      "metadata": {
        "id": "view-in-github",
        "colab_type": "text"
      },
      "source": [
        "<a href=\"https://colab.research.google.com/github/AnhelinaKavaliova/MachineLearning/blob/main/lab2.ipynb\" target=\"_parent\"><img src=\"https://colab.research.google.com/assets/colab-badge.svg\" alt=\"Open In Colab\"/></a>"
      ]
    },
    {
      "cell_type": "markdown",
      "source": [
        "Написать функцию для определения количества гласных и согласных\n",
        "в строке"
      ],
      "metadata": {
        "id": "iH_5p91VT_B9"
      }
    },
    {
      "cell_type": "code",
      "execution_count": null,
      "metadata": {
        "id": "Zgnocya-RH51",
        "colab": {
          "base_uri": "https://localhost:8080/"
        },
        "outputId": "ea1036dc-b458-47c0-cf4c-8649801b3cdf"
      },
      "outputs": [
        {
          "output_type": "stream",
          "name": "stdout",
          "text": [
            "Введите строку: aabb\n",
            "Результат\n",
            "Гласные: 2\n",
            "Согласные: 2\n"
          ]
        }
      ],
      "source": [
        "import string\n",
        "\n",
        "def count_vowels_consonants(string):\n",
        "    vowels = 'aeiou'\n",
        "    consonants = ''.join(char for char in string if char not in vowels)\n",
        "\n",
        "    try:\n",
        "        num_vowels = sum(1 for char in string if char in vowels)\n",
        "        num_consonants = len(consonants)\n",
        "        return num_vowels, num_consonants\n",
        "    except TypeError:\n",
        "        print(\"Ошибка\")\n",
        "        return None, None\n",
        "\n",
        "string = input(\"Введите строку: \")\n",
        "vowels, consonants = count_vowels_consonants(string)\n",
        "print(\"Гласные:\", vowels)\n",
        "print(\"Согласные:\", consonants)\n"
      ]
    },
    {
      "cell_type": "markdown",
      "source": [
        "Напишите функцию, которая будет принимать один аргумент. Если в\n",
        "функцию передаётся словарь, найдите три ключа с самыми большими\n",
        "значениями в словаре.\n",
        "Если список, найти количество четных чисел, удалить все\n",
        "повторяющиеся элементы.\n",
        "Число – найти сумму цифр.\n",
        "Строка – убрать лишние символы. Вывести количество слов.\n",
        "Сделать проверку со всеми этими случаями."
      ],
      "metadata": {
        "id": "lzL8fQ-9UDpV"
      }
    },
    {
      "cell_type": "code",
      "source": [
        "from os import remove\n",
        "def work_with_types(arg):\n",
        "  try:\n",
        "    if isinstance(arg, dict):\n",
        "        sorted_keys = sorted(arg, key=arg.get, reverse=True)[:3]\n",
        "        return sorted_keys\n",
        "    elif isinstance(arg, list):\n",
        "        num_even = sum(1 for num in arg if num % 2 == 0)\n",
        "        unique_elements = list(set(arg))\n",
        "        return num_even, unique_elements\n",
        "    elif isinstance(arg, int):\n",
        "        return sum(int(num) for num in str(arg))\n",
        "    elif isinstance(arg, str):\n",
        "        words = arg.split()\n",
        "        new_string = ' '.join(words)\n",
        "        return new_string, len(words)\n",
        "    else:\n",
        "        raise TypeError(\"Неизвестный тип аргумента\")\n",
        "  except TypeError as e:\n",
        "    print(\"Ошибка:\", e)\n",
        "    return None\n",
        "\n",
        "flag = True\n",
        "while(flag):\n",
        "  choice = int(input(\"Выберите, что вы хотите передать:\\n1. Словарь чисел\\n2. Список чисел\\n3. Число\\n4. Строку\\n5. Выход\\n\"))\n",
        "\n",
        "  try:\n",
        "    if choice == 1:\n",
        "\n",
        "      my_dict = {}\n",
        "      while True:\n",
        "          try:\n",
        "              n = int(input(\"Введите количество элементов в словаре: \"))\n",
        "              break\n",
        "          except ValueError:\n",
        "              print(\"Ошибка: введите целое число.\")\n",
        "\n",
        "      for tmp in range(n):\n",
        "          while True:\n",
        "              try:\n",
        "                  key = input(\"Введите ключ: \")\n",
        "                  value = int(input(\"Введите значение: \"))\n",
        "                  my_dict[key] = value\n",
        "                  break\n",
        "              except ValueError:\n",
        "                  print(\"Ошибка: введите целое число.\")\n",
        "\n",
        "      print(\"Ваш словарь:\", my_dict)\n",
        "      sorted_keys = work_with_types(my_dict)\n",
        "      print(len(sorted_keys), \" ключа с наибольшимива значениями: \", sorted_keys)\n",
        "\n",
        "    elif choice == 2:\n",
        "\n",
        "      while True:\n",
        "        try:\n",
        "            a = list(map(int, input(\"Введите числа через пробел: \").split()))\n",
        "            break\n",
        "        except ValueError:\n",
        "            print(\"Ошибка: введите только числа\")\n",
        "      print(\"Ваш список чисел: \", a)\n",
        "      even_num, uniqie_elements = work_with_types(a)\n",
        "      print(\"Количество чётных элементов: \", even_num)\n",
        "      print(\"Список без повторений: \", uniqie_elements)\n",
        "\n",
        "    elif choice == 3:\n",
        "\n",
        "      while True:\n",
        "        try:\n",
        "          a = int(input(\"Введите число: \"))\n",
        "          break\n",
        "        except ValueError:\n",
        "           print(\"Ошибка: введите только число \")\n",
        "\n",
        "      print(\"Ваше число: \", a)\n",
        "      num_sum = work_with_types(a)\n",
        "      print(\"Сумма цифр числа: \", num_sum)\n",
        "\n",
        "    elif choice == 4:\n",
        "\n",
        "      a = input(\"Введите строку: \")\n",
        "      print(\"Ваша строка:\", a)\n",
        "      string, count_words = work_with_types(a)\n",
        "      print(\"Строка без лишних пробелов: \", string)\n",
        "      print(\"Количество слов в строке: \", count_words)\n",
        "\n",
        "    elif choice == 5:\n",
        "      flag = False\n",
        "    else:\n",
        "      raise TypeError(\"Неверный ввод\")\n",
        "  except TypeError as e:\n",
        "    print(\"Ошибка:\", e)"
      ],
      "metadata": {
        "id": "Pd1GpHNzUOnY"
      },
      "execution_count": null,
      "outputs": []
    },
    {
      "cell_type": "markdown",
      "source": [
        "Дана целочисленная прямоугольная матрица. Определить количество\n",
        "столбцов, не содержащих ни одного нулевого элемента"
      ],
      "metadata": {
        "id": "MAdn3mABUO_A"
      }
    },
    {
      "cell_type": "code",
      "source": [
        "def not_null_cols(matrix):\n",
        "  rows = len(matrix)\n",
        "  cols = len(matrix[0])\n",
        "  count = cols\n",
        "\n",
        "  for j in range(cols):\n",
        "    for i in range(rows):\n",
        "        if matrix[i][j] == 0:\n",
        "            count -=1\n",
        "            break\n",
        "  return count\n",
        "\n",
        "def matrix_parametrs():\n",
        "  while True:\n",
        "    try:\n",
        "      rows = int(input(\"Введите количество строк в матрице: \"))\n",
        "      cols = int(input(\"Введите количество столбцов в матрице: \"))\n",
        "      return rows, cols\n",
        "    except ValueError:\n",
        "      print(\"Ошибка: введите только число \")\n",
        "\n",
        "def print_matrix(matrix):\n",
        "  for row in matrix:\n",
        "    for element in row:\n",
        "        print(element, end=\" \")\n",
        "    print(\"\\n\")\n",
        "\n",
        "while True:\n",
        "    try:\n",
        "        choice = int(input(\"Выберите:\\n1. Заполнить матрицу руками\\n2. Заполнить матрицу рандомно\\n\"))\n",
        "        if choice == 1:\n",
        "\n",
        "            rows, cols = matrix_parametrs()\n",
        "            matrix = []\n",
        "            for _ in range(rows):\n",
        "                row = []\n",
        "                for _ in range(cols):\n",
        "                    element = int(input(\"Введите элемент матрицы: \"))\n",
        "                    row.append(element)\n",
        "                matrix.append(row)\n",
        "            print(\"Ваша матрица: \")\n",
        "            print(matrix)\n",
        "            print(\"Количество столбцов, не содержащих ни одного нулевого элемента: \", not_null_cols(matrix))\n",
        "            break\n",
        "\n",
        "        elif choice == 2:\n",
        "\n",
        "            import random\n",
        "            rows = int(input(\"Введите количество строк: \"))\n",
        "            cols = int(input(\"Введите количество столбцов: \"))\n",
        "            matrix = [[random.randint(0, 9) for _ in range(cols)] for _ in range(rows)]\n",
        "            print(\"Ваша матрица: \")\n",
        "            print(matrix)\n",
        "            print(\"Количество столбцов, не содержащих ни одного нулевого элемента: \", not_null_cols(matrix))\n",
        "            break\n",
        "        else:\n",
        "            print(\"Ошибка: введите 1 или 2\")\n",
        "    except ValueError:\n",
        "        print(\"Ошибка: введите число\")\n"
      ],
      "metadata": {
        "id": "0HreGEgjUTHq",
        "colab": {
          "base_uri": "https://localhost:8080/"
        },
        "outputId": "15472125-d0d5-471c-ecfc-a4edba2d197d"
      },
      "execution_count": 6,
      "outputs": [
        {
          "output_type": "stream",
          "name": "stdout",
          "text": [
            "Выберите:\n",
            "1. Заполнить матрицу руками\n",
            "2. Заполнить матрицу рандомно\n",
            "1\n",
            "Введите количество строк в матрице: 3\n",
            "Введите количество столбцов в матрице: 2\n",
            "Введите элемент матрицы: 1\n",
            "Введите элемент матрицы: 2\n",
            "Введите элемент матрицы: 3\n",
            "Введите элемент матрицы: 4\n",
            "Введите элемент матрицы: 5\n",
            "Введите элемент матрицы: 0\n",
            "Ваша матрица: \n",
            "[[1, 2], [3, 4], [5, 0]]\n",
            "Количество столбцов, не содержащих ни одного нулевого элемента:  1\n"
          ]
        }
      ]
    },
    {
      "cell_type": "markdown",
      "source": [
        "Напишите программу, демонстрирующую работу try\\except\\finally"
      ],
      "metadata": {
        "id": "IZ7n99dpUTpB"
      }
    },
    {
      "cell_type": "code",
      "source": [
        "try:\n",
        "    num1 = int(input(\"Введите первое число: \"))\n",
        "    num2 = int(input(\"Введите второе число: \"))\n",
        "\n",
        "    result = num1 / num2\n",
        "    print(\"Результат деления:\", result)\n",
        "except ValueError:\n",
        "    print(\"Ошибка: Введите только числа\")\n",
        "\n",
        "except ZeroDivisionError:\n",
        "    print(\"Ошибка: Деление на ноль\")\n",
        "\n",
        "finally:\n",
        "    print(\"Программа завершена\")"
      ],
      "metadata": {
        "id": "9Ii87Q6sUZX3"
      },
      "execution_count": null,
      "outputs": []
    }
  ]
}