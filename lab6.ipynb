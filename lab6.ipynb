{
  "nbformat": 4,
  "nbformat_minor": 0,
  "metadata": {
    "colab": {
      "provenance": [],
      "toc_visible": true,
      "authorship_tag": "ABX9TyMtmIWAWOES9SJYxLPUlPG6",
      "include_colab_link": true
    },
    "kernelspec": {
      "name": "python3",
      "display_name": "Python 3"
    },
    "language_info": {
      "name": "python"
    }
  },
  "cells": [
    {
      "cell_type": "markdown",
      "metadata": {
        "id": "view-in-github",
        "colab_type": "text"
      },
      "source": [
        "<a href=\"https://colab.research.google.com/github/AnhelinaKavaliova/MachineLearning/blob/main/lab6.ipynb\" target=\"_parent\"><img src=\"https://colab.research.google.com/assets/colab-badge.svg\" alt=\"Open In Colab\"/></a>"
      ]
    },
    {
      "cell_type": "markdown",
      "source": [
        "#Часть 1. Регрессия"
      ],
      "metadata": {
        "id": "DPkHyeelCDvN"
      }
    },
    {
      "cell_type": "code",
      "source": [
        "import numpy as np\n",
        "import matplotlib.pyplot as plt\n",
        "\n",
        "%matplotlib inline\n",
        "import warnings\n",
        "warnings.filterwarnings('ignore')"
      ],
      "metadata": {
        "id": "HVrVqm5TCZPY"
      },
      "execution_count": null,
      "outputs": []
    },
    {
      "cell_type": "code",
      "source": [
        "X = np.array([[   1,    1,  50,    1],\n",
        "              [   1,    1,  70,    1],\n",
        "              [   1,    2,  75,    2],\n",
        "              [   1,    5,  60,    1],\n",
        "              [   1,    3, 145,    2],\n",
        "              [   1,    0,  80,    1],\n",
        "              [   1,    5, 150,    3],\n",
        "              [   1,   10, 200,    3],\n",
        "              [   1,    1,  45,    1],\n",
        "              [   1,    2, 100,    2]])"
      ],
      "metadata": {
        "id": "uTYQmrI3CfKu"
      },
      "execution_count": null,
      "outputs": []
    },
    {
      "cell_type": "code",
      "source": [
        "y = [45, 55, 50, 55, 60, 35, 75, 80, 50, 60]"
      ],
      "metadata": {
        "id": "UxEwjqw8ChLU"
      },
      "execution_count": null,
      "outputs": []
    },
    {
      "cell_type": "code",
      "source": [
        "def min_max_scale(X):\n",
        "    return (X - X.min()) / (X.max() - X.min())"
      ],
      "metadata": {
        "id": "eX_WcHN1Cry2"
      },
      "execution_count": null,
      "outputs": []
    },
    {
      "cell_type": "code",
      "source": [
        "X_norm = X.copy()\n",
        "X_norm = X_norm.astype(np.float64)\n",
        "X_norm"
      ],
      "metadata": {
        "id": "g4JVQYLKCsRa",
        "colab": {
          "base_uri": "https://localhost:8080/"
        },
        "outputId": "31c8b065-446c-4ce4-924a-bc1de68ed222"
      },
      "execution_count": null,
      "outputs": [
        {
          "output_type": "execute_result",
          "data": {
            "text/plain": [
              "array([[  1.,   1.,  50.,   1.],\n",
              "       [  1.,   1.,  70.,   1.],\n",
              "       [  1.,   2.,  75.,   2.],\n",
              "       [  1.,   5.,  60.,   1.],\n",
              "       [  1.,   3., 145.,   2.],\n",
              "       [  1.,   0.,  80.,   1.],\n",
              "       [  1.,   5., 150.,   3.],\n",
              "       [  1.,  10., 200.,   3.],\n",
              "       [  1.,   1.,  45.,   1.],\n",
              "       [  1.,   2., 100.,   2.]])"
            ]
          },
          "metadata": {},
          "execution_count": 5
        }
      ]
    },
    {
      "cell_type": "code",
      "source": [
        "X_norm[:, 1] = min_max_scale(X_norm[:, 1])\n",
        "X_norm[:, 2] = min_max_scale(X_norm[:, 2])\n",
        "X_norm[:, 3] = min_max_scale(X_norm[:, 3])\n",
        "X_norm"
      ],
      "metadata": {
        "id": "HEvv3p35Ct5P",
        "colab": {
          "base_uri": "https://localhost:8080/"
        },
        "outputId": "daa1b62a-032e-4c1d-d568-3e66ffe2ac41"
      },
      "execution_count": null,
      "outputs": [
        {
          "output_type": "execute_result",
          "data": {
            "text/plain": [
              "array([[1.        , 0.1       , 0.03225806, 0.        ],\n",
              "       [1.        , 0.1       , 0.16129032, 0.        ],\n",
              "       [1.        , 0.2       , 0.19354839, 0.5       ],\n",
              "       [1.        , 0.5       , 0.09677419, 0.        ],\n",
              "       [1.        , 0.3       , 0.64516129, 0.5       ],\n",
              "       [1.        , 0.        , 0.22580645, 0.        ],\n",
              "       [1.        , 0.5       , 0.67741935, 1.        ],\n",
              "       [1.        , 1.        , 1.        , 1.        ],\n",
              "       [1.        , 0.1       , 0.        , 0.        ],\n",
              "       [1.        , 0.2       , 0.35483871, 0.5       ]])"
            ]
          },
          "metadata": {},
          "execution_count": 6
        }
      ]
    },
    {
      "cell_type": "code",
      "source": [
        "def calc_mse(y, y_pred):\n",
        "    err = np.mean((y - y_pred)**2)\n",
        "    return err"
      ],
      "metadata": {
        "id": "dfOPspiRValV"
      },
      "execution_count": null,
      "outputs": []
    },
    {
      "cell_type": "code",
      "source": [
        "W = np.random.randn(X.shape[1])\n",
        "W"
      ],
      "metadata": {
        "colab": {
          "base_uri": "https://localhost:8080/"
        },
        "id": "yYNwzRq5VbuL",
        "outputId": "2b3e9d9b-8c16-41b1-bef9-06a6f11e5f85"
      },
      "execution_count": null,
      "outputs": [
        {
          "output_type": "execute_result",
          "data": {
            "text/plain": [
              "array([ 0.16496144,  0.85134181, -1.42133905, -0.15640688])"
            ]
          },
          "metadata": {},
          "execution_count": 11
        }
      ]
    },
    {
      "cell_type": "markdown",
      "source": [
        "##Постройте график зависимости весов всех признаков от lambda в самописной L2-регуляризации (на данных про ЕГЭ). Сделайте вывод"
      ],
      "metadata": {
        "id": "-JyXf95zCUvN"
      }
    },
    {
      "cell_type": "code",
      "source": [
        "def gradient_descent_reg_l2(X, y, iterations, eta=1e-4, reg=1e-8):\n",
        "    W = np.random.randn(X.shape[1])\n",
        "    n = X.shape[0]\n",
        "\n",
        "    for i in range(0, iterations):\n",
        "        y_pred = np.dot(X, W)\n",
        "        err = calc_mse(y, y_pred)\n",
        "\n",
        "        dQ = 2/n * X.T @ (y_pred - y) # градиент функции ошибки\n",
        "        dReg = reg * W # градиент регуляризации\n",
        "\n",
        "        W -= eta * (dQ + dReg)\n",
        "\n",
        "        if i % (iterations / 10) == 0:\n",
        "            print(f'Iter: {i}, weights: {W}, error {err}')\n",
        "\n",
        "    print(f'Final MSE: {calc_mse(y, np.dot(X, W))}')\n",
        "    return W"
      ],
      "metadata": {
        "id": "tAd-l2EmUyuU"
      },
      "execution_count": null,
      "outputs": []
    },
    {
      "cell_type": "code",
      "source": [
        "gradient_descent_reg_l2(X_norm, y, iterations=5000, eta=1e-1, reg=1e-4)"
      ],
      "metadata": {
        "colab": {
          "base_uri": "https://localhost:8080/"
        },
        "id": "EY4XLV_DUzbU",
        "outputId": "0ae77755-5404-48f2-b825-14dc34ddc41a"
      },
      "execution_count": null,
      "outputs": [
        {
          "output_type": "stream",
          "name": "stdout",
          "text": [
            "Iter: 0, weights: [10.30743488  4.62707307  4.89084654  4.08032813], error 3497.34645628356\n",
            "Iter: 500, weights: [44.16812084 20.47639797  3.41922321 14.36416788], error 25.251124583799662\n",
            "Iter: 1000, weights: [44.25617362 21.76891639  0.35361777 15.9731759 ], error 24.94148384878805\n",
            "Iter: 1500, weights: [44.29025639 22.10425357 -0.62179866 16.53335782], error 24.909047381147964\n",
            "Iter: 2000, weights: [44.30147739 22.20675493 -0.93281755 16.71478606], error 24.905328382010982\n",
            "Iter: 2500, weights: [44.30507723 22.23919375 -1.03202675 16.77282164], error 24.904815976445267\n",
            "Iter: 3000, weights: [44.30622679 22.24952691 -1.06367486 16.79134471], error 24.90472109283579\n",
            "Iter: 3500, weights: [44.30659358 22.2528224  -1.07377085 16.79725427], error 24.904697802532656\n",
            "Iter: 4000, weights: [44.30671059 22.25387364 -1.07699156 16.7991395 ], error 24.90469108285616\n",
            "Iter: 4500, weights: [44.30674792 22.25420899 -1.078019   16.79974091], error 24.904689011486308\n",
            "Final MSE: 24.904688358055235\n"
          ]
        },
        {
          "output_type": "execute_result",
          "data": {
            "text/plain": [
              "array([44.30675981, 22.25431585, -1.07834641, 16.79993256])"
            ]
          },
          "metadata": {},
          "execution_count": 15
        }
      ]
    },
    {
      "cell_type": "code",
      "source": [
        "lambda_values = [1e-6, 1e-5, 1e-4, 1e-3, 1e-2, 1e-1, 1]\n",
        "feature_weights = []\n",
        "\n",
        "for lmbda in lambda_values:\n",
        "    print(f\"\\nLAMBDA {lmbda}\\n\")\n",
        "    weights = gradient_descent_reg_l2(X_norm, y, iterations=5000, eta=1e-1, reg=lmbda)\n",
        "    feature_weights.append(weights)\n",
        "\n",
        "plt.figure(figsize=(15, 6))\n",
        "for feature_index in range(X_norm.shape[1]):\n",
        "    weights_for_feature = [weights[feature_index] for weights in feature_weights]\n",
        "    plt.semilogx(lambda_values, weights_for_feature, label=f'Feature {feature_index+1}')\n",
        "\n",
        "plt.xlabel('Lambda')\n",
        "plt.ylabel('Weight')\n",
        "plt.title('Dependency of Weights on Lambda in L2 Regularization')\n",
        "plt.legend()\n",
        "plt.grid(True)\n",
        "plt.show()\n",
        "\n",
        "\n"
      ],
      "metadata": {
        "colab": {
          "base_uri": "https://localhost:8080/",
          "height": 1000
        },
        "id": "x1484J0AXogR",
        "outputId": "7dc414e0-8626-418d-9bdd-dd1706621d55"
      },
      "execution_count": null,
      "outputs": [
        {
          "output_type": "stream",
          "name": "stdout",
          "text": [
            "\n",
            "LAMBDA 1e-06\n",
            "\n",
            "Iter: 0, weights: [11.17628395  2.81366721  3.50763097  4.21957435], error 3541.950148858664\n",
            "Iter: 500, weights: [44.18426615 20.47469044  3.2033461  14.53539506], error 25.221172560736555\n",
            "Iter: 1000, weights: [44.262028   21.80833783  0.24997195 16.0293108 ], error 24.936555423453797\n",
            "Iter: 1500, weights: [44.29458544 22.13791895 -0.69363537 16.56793442], error 24.907905271253462\n",
            "Iter: 2000, weights: [44.30546868 22.23785859 -0.99596287 16.74410039], error 24.904958586000372\n",
            "Iter: 2500, weights: [44.30898382 22.26956456 -1.09287667 16.80078198], error 24.90465441771446\n",
            "Iter: 3000, weights: [44.31011228 22.27970982 -1.12394615 16.81896573], error 24.904622734486423\n",
            "Iter: 3500, weights: [44.31047414 22.28296121 -1.13390684 16.82479605], error 24.90461934325335\n",
            "Iter: 4000, weights: [44.31059016 22.28400352 -1.1371002  16.82666527], error 24.904618951485514\n",
            "Iter: 4500, weights: [44.31062736 22.28433768 -1.13812397 16.82726453], error 24.904618897365427\n",
            "Final MSE: 24.904618887361487\n",
            "\n",
            "LAMBDA 1e-05\n",
            "\n",
            "Iter: 0, weights: [11.4839091   2.40274237  4.4546289   4.04293663], error 3467.2537636565285\n",
            "Iter: 500, weights: [44.17579263 20.37358949  3.46485654 14.39241153], error 25.260218410967614\n",
            "Iter: 1000, weights: [44.25878947 21.77820522  0.33674568 15.979757  ], error 24.940667997434556\n",
            "Iter: 1500, weights: [44.29329717 22.12668788 -0.66230895 16.55032605], error 24.908382675792126\n",
            "Iter: 2000, weights: [44.30481705 22.23242654 -0.98226124 16.73677923], error 24.905026398917453\n",
            "Iter: 2500, weights: [44.30853557 22.26596423 -1.08477881 16.79673928], error 24.904667890050067\n",
            "Iter: 3000, weights: [44.30972874 22.27669119 -1.11762999 16.81596585], error 24.90462663097869\n",
            "Iter: 3500, weights: [44.31011119 22.28012747 -1.12815714 16.82212774], error 24.90462096988949\n",
            "Iter: 4000, weights: [44.31023375 22.28122856 -1.13153057 16.82410237], error 24.90461993215375\n",
            "Iter: 4500, weights: [44.31027302 22.2815814  -1.13261159 16.82473514], error 24.904619679334143\n",
            "Final MSE: 24.904619606504603\n",
            "\n",
            "LAMBDA 0.0001\n",
            "\n",
            "Iter: 0, weights: [11.05928521  3.46496397  2.9630791   6.2506637 ], error 3418.2080052278316\n",
            "Iter: 500, weights: [44.19900096 20.57617306  2.79670447 14.79425179], error 25.166466210999374\n",
            "Iter: 1000, weights: [44.26390154 21.82801879  0.15412945 16.09376394], error 24.932297935970652\n",
            "Iter: 1500, weights: [44.29259828 22.12469275 -0.68548946 16.57086102], error 24.908025300588914\n",
            "Iter: 2000, weights: [44.30221731 22.21336732 -0.95313852 16.7266938 ], error 24.90519690760197\n",
            "Iter: 2500, weights: [44.30531285 22.24130851 -1.03850949 16.77661706], error 24.904793841075797\n",
            "Iter: 3000, weights: [44.30630193 22.25020185 -1.06574292 16.79255529], error 24.90471604726625\n",
            "Iter: 3500, weights: [44.30661755 22.25303773 -1.07443058 16.79764044], error 24.904696398105273\n",
            "Iter: 4000, weights: [44.30671823 22.25394233 -1.07720202 16.79926269], error 24.904690655709935\n",
            "Iter: 4500, weights: [44.30675036 22.2542309  -1.07808614 16.79978021], error 24.904688877347684\n",
            "Final MSE: 24.90468831548007\n",
            "\n",
            "LAMBDA 0.001\n",
            "\n",
            "Iter: 0, weights: [11.02283333  4.88985444  4.49312136  4.18766748], error 3386.888411751196\n",
            "Iter: 500, weights: [44.14888371 20.3925183   3.46596148 14.38928157], error 25.259799476228714\n",
            "Iter: 1000, weights: [44.22902296 21.57435386  0.66885514 15.85576383], error 24.959342739272756\n",
            "Iter: 1500, weights: [44.25873735 21.86695765 -0.18185811 16.34424092], error 24.920507985273538\n",
            "Iter: 2000, weights: [44.26809153 21.95241911 -0.44115012 16.49549026], error 24.91346413832766\n",
            "Iter: 2500, weights: [44.27096027 21.97827058 -0.52021163 16.54173955], error 24.911760911098153\n",
            "Iter: 3000, weights: [44.27183597 21.9861421  -0.54432023 16.55584987], error 24.91128281584009\n",
            "Iter: 3500, weights: [44.27210306 21.98854179 -0.55167188 16.56015305], error 24.911140861077353\n",
            "Iter: 4000, weights: [44.2721845  21.98927352 -0.55391368 16.56146529], error 24.911097929890396\n",
            "Iter: 4500, weights: [44.27220934 21.98949665 -0.5545973  16.56186544], error 24.91108487160461\n",
            "Final MSE: 24.911080892696482\n",
            "\n",
            "LAMBDA 0.01\n",
            "\n",
            "Iter: 0, weights: [12.16996926  5.05057691  5.24811543  5.56823975], error 3063.398620577558\n",
            "Iter: 500, weights: [43.92224575 19.22380133  4.94881548 14.04043464], error 25.601420387586067\n",
            "Iter: 1000, weights: [43.96286799 19.87401506  3.46549314 14.80320376], error 25.329541926075073\n",
            "Iter: 1500, weights: [43.97283261 19.97361037  3.17832539 14.96757144], error 25.287345740935155\n",
            "Iter: 2000, weights: [43.97484096 19.99200894  3.12259118 15.00006382], error 25.279538240906316\n",
            "Iter: 2500, weights: [43.97523356 19.9955485   3.11176922 15.00639379], error 25.27803649991349\n",
            "Iter: 3000, weights: [43.97530989 19.99623468  3.10966774 15.00762373], error 25.27774541317878\n",
            "Iter: 3500, weights: [43.97532471 19.99636788  3.10925965 15.0078626 ], error 25.277688906929704\n",
            "Iter: 4000, weights: [43.97532759 19.99639375  3.1091804  15.00790898], error 25.277677934697643\n",
            "Iter: 4500, weights: [43.97532815 19.99639877  3.10916502 15.00791799], error 25.277675804021584\n",
            "Final MSE: 25.277675390265436\n",
            "\n",
            "LAMBDA 0.1\n",
            "\n",
            "Iter: 0, weights: [11.42447926  5.34420547  4.3670637   5.20284055], error 3237.216218377955\n",
            "Iter: 500, weights: [41.90111649 14.71108457 10.32950234 13.11941162], error 32.03728756640436\n",
            "Iter: 1000, weights: [41.90122282 14.71294815 10.32541291 13.12146944], error 32.03560096831366\n",
            "Iter: 1500, weights: [41.90122311 14.71295112 10.32540442 13.12147429], error 32.03559774611307\n",
            "Iter: 2000, weights: [41.90122311 14.71295112 10.3254044  13.1214743 ], error 32.035597739510834\n",
            "Iter: 2500, weights: [41.90122311 14.71295112 10.3254044  13.1214743 ], error 32.035597739497184\n",
            "Iter: 3000, weights: [41.90122311 14.71295112 10.3254044  13.1214743 ], error 32.035597739497184\n",
            "Iter: 3500, weights: [41.90122311 14.71295112 10.3254044  13.1214743 ], error 32.035597739497184\n",
            "Iter: 4000, weights: [41.90122311 14.71295112 10.3254044  13.1214743 ], error 32.035597739497184\n",
            "Iter: 4500, weights: [41.90122311 14.71295112 10.3254044  13.1214743 ], error 32.035597739497184\n",
            "Final MSE: 32.035597739497184\n",
            "\n",
            "LAMBDA 1\n",
            "\n",
            "Iter: 0, weights: [11.45104114  3.84690847  4.13445315  5.24019688], error 3325.8105299789154\n",
            "Iter: 500, weights: [30.47446092 10.25036945 10.79566068 11.59029438], error 263.33885189989735\n",
            "Iter: 1000, weights: [30.47446092 10.25036945 10.79566068 11.59029438], error 263.33885189989735\n",
            "Iter: 1500, weights: [30.47446092 10.25036945 10.79566068 11.59029438], error 263.33885189989735\n",
            "Iter: 2000, weights: [30.47446092 10.25036945 10.79566068 11.59029438], error 263.33885189989735\n",
            "Iter: 2500, weights: [30.47446092 10.25036945 10.79566068 11.59029438], error 263.33885189989735\n",
            "Iter: 3000, weights: [30.47446092 10.25036945 10.79566068 11.59029438], error 263.33885189989735\n",
            "Iter: 3500, weights: [30.47446092 10.25036945 10.79566068 11.59029438], error 263.33885189989735\n",
            "Iter: 4000, weights: [30.47446092 10.25036945 10.79566068 11.59029438], error 263.33885189989735\n",
            "Iter: 4500, weights: [30.47446092 10.25036945 10.79566068 11.59029438], error 263.33885189989735\n",
            "Final MSE: 263.33885189989735\n"
          ]
        },
        {
          "output_type": "display_data",
          "data": {
            "text/plain": [
              "<Figure size 1500x600 with 1 Axes>"
            ],
            "image/png": "[encoded data removed]"
          },
          "metadata": {}
        }
      ]
    },
    {
      "cell_type": "markdown",
      "source": [
        "\n",
        "*   При значениях lambda меньше 0.0001 наблюдается переобучение (MSE не уменьшается после определенного количества итераций)\n",
        "*   При значении lambda равном 0.001 MSE начинает расти, что указывает на возможное недообучение\n",
        "\n",
        "*   Значение lambda в диапазоне 0.001 - 0.0001 может быть оптимальным для данной модели и данных\n",
        "\n",
        "\n",
        "\n"
      ],
      "metadata": {
        "id": "buYK9WVnwYe-"
      }
    },
    {
      "cell_type": "markdown",
      "source": [
        "##Напишите функцию наподобие gradient_descent_reg_l2, но для применения L1-регуляризации"
      ],
      "metadata": {
        "id": "fQBAi4Aiw1NR"
      }
    },
    {
      "cell_type": "code",
      "source": [
        "def gradient_descent_reg_l1(X, y, iterations, eta=1e-4, reg=1e-8):\n",
        "    W = np.random.randn(X.shape[1])\n",
        "    n = X.shape[0]\n",
        "\n",
        "    for i in range(0, iterations):\n",
        "        y_pred = np.dot(X, W)\n",
        "        err = calc_mse(y, y_pred)\n",
        "\n",
        "        dQ = 2/n * X.T @ (y_pred - y) #градиент функции ошибки\n",
        "        dReg = reg * abs(W) #градиент L1-регуляризации\n",
        "\n",
        "        W -= eta * (dQ + dReg)\n",
        "\n",
        "        if i % (iterations / 10) == 0:\n",
        "            print(f'Iter: {i}, weights: {W}, error {err}')\n",
        "\n",
        "    print(f'Final MSE: {calc_mse(y, np.dot(X, W))}')\n",
        "    return W\n"
      ],
      "metadata": {
        "id": "Ol5MB3uOwqAG"
      },
      "execution_count": null,
      "outputs": []
    },
    {
      "cell_type": "code",
      "source": [
        "gradient_descent_reg_l2(X_norm, y, iterations=5000, eta=1e-1, reg=1e-4)"
      ],
      "metadata": {
        "colab": {
          "base_uri": "https://localhost:8080/"
        },
        "id": "mf_fH1idBycT",
        "outputId": "c73ecf7e-123d-49d4-ec5b-35f316e6dc0f"
      },
      "execution_count": null,
      "outputs": [
        {
          "output_type": "stream",
          "name": "stdout",
          "text": [
            "Iter: 0, weights: [10.83580727  4.35246724  3.46976852  4.82940618], error 3468.331549832545\n",
            "Iter: 500, weights: [44.18479711 20.57425121  3.02674751 14.6131191 ], error 25.19525967513449\n",
            "Iter: 1000, weights: [44.26087246 21.80811018  0.22815149 16.04773418], error 24.935549932339466\n",
            "Iter: 1500, weights: [44.29171927 22.11722036 -0.6618388  16.55686017], error 24.90838909767247\n",
            "Iter: 2000, weights: [44.30194197 22.21091839 -0.9455916  16.7222671 ], error 24.905244134556106\n",
            "Iter: 2500, weights: [44.30522531 22.2405235  -1.03610183 16.77520721], error 24.90480189929552\n",
            "Iter: 3000, weights: [44.30627402 22.2499512  -1.06497485 16.79210567], error 24.90471790462435\n",
            "Iter: 3500, weights: [44.30660864 22.25295776 -1.07418556 16.79749702], error 24.904696918021948\n",
            "Iter: 4000, weights: [44.30671539 22.25391682 -1.07712386 16.79921694], error 24.904690814179524\n",
            "Iter: 4500, weights: [44.30674945 22.25422276 -1.0780612  16.79976561], error 24.904688927148932\n",
            "Final MSE: 24.904688331290593\n"
          ]
        },
        {
          "output_type": "execute_result",
          "data": {
            "text/plain": [
              "array([44.3067603 , 22.25432026, -1.0783599 , 16.79994045])"
            ]
          },
          "metadata": {},
          "execution_count": 40
        }
      ]
    },
    {
      "cell_type": "markdown",
      "source": [
        "##Можно ли к одному и тому же признаку применить сразу и нормализацию, и стандартизацию?"
      ],
      "metadata": {
        "id": "nfIL4SvcGogf"
      }
    },
    {
      "cell_type": "markdown",
      "source": [
        "Нет\n",
        "* Нормализация: Диапазон от 0 до 1 (или от -1 до 1)\n",
        "* Стандартизация: Среднее 0, стандартное отклонение 1\n",
        "\n",
        "Не рекомендуется применять нормализацию и стандартизацию одновременно к одному признаку, так как это может привести к искажению данных или потере информации\n",
        "\n",
        "\n"
      ],
      "metadata": {
        "id": "2hncirrNG4Yd"
      }
    },
    {
      "cell_type": "markdown",
      "source": [
        "##Сгенерируйте датасет при помощи sklearn.datasets.make_regression и обучите линейную модель при помощи градиентного и стохастического градиентного спуска. Нанесите среднеквадратичную ошибку для обоих методов на один график, сделайте выводы о разнице скорости сходимости каждого из методов\n"
      ],
      "metadata": {
        "id": "-91RLEVEH9tU"
      }
    },
    {
      "cell_type": "code",
      "source": [
        "from sklearn import datasets\n",
        "#from sklearn.preprocessing import MinMaxScaler\n",
        "\n",
        "X, y= datasets.make_regression(n_samples=1000, n_features=2, noise=5, random_state=42)\n"
      ],
      "metadata": {
        "id": "Y8gXEbYxIEor"
      },
      "execution_count": null,
      "outputs": []
    },
    {
      "cell_type": "code",
      "source": [
        "#scaler = MinMaxScaler()\n",
        "#X_norm = scaler.fit_transform(X)\n"
      ],
      "metadata": {
        "id": "nZvyWeYwL5m8"
      },
      "execution_count": null,
      "outputs": []
    },
    {
      "cell_type": "code",
      "source": [
        "def calc_mse(y, y_pred):\n",
        "    err = np.mean((y - y_pred)**2)\n",
        "    return err"
      ],
      "metadata": {
        "id": "cy7ZMUAaOUkz"
      },
      "execution_count": null,
      "outputs": []
    },
    {
      "cell_type": "code",
      "source": [
        "W = np.random.randn(X.shape[1])\n",
        "W"
      ],
      "metadata": {
        "colab": {
          "base_uri": "https://localhost:8080/"
        },
        "id": "-qYPUSEFOVFb",
        "outputId": "40c5ccb1-4d75-454b-9a33-00c3e25d7ce7"
      },
      "execution_count": null,
      "outputs": [
        {
          "output_type": "execute_result",
          "data": {
            "text/plain": [
              "array([2.234331  , 0.29055352])"
            ]
          },
          "metadata": {},
          "execution_count": 6
        }
      ]
    },
    {
      "cell_type": "code",
      "source": [
        "# классический  GD\n",
        "def gradient_descent(X, y, iterations, eta=1e-4):\n",
        "    W = np.random.randn(X.shape[1])\n",
        "    n = X.shape[0]\n",
        "\n",
        "    classic_errors = []\n",
        "\n",
        "    for i in range(0, iterations):\n",
        "        y_pred = np.dot(X, W)\n",
        "        err = calc_mse(y, y_pred)\n",
        "        classic_errors.append(err)\n",
        "        dQ = 2/n * X.T @ (y_pred - y) # градиент функции ошибки\n",
        "        W -= (eta * dQ)\n",
        "        if i % (iterations / 10) == 0:\n",
        "            print(f'Iter: {i}, weights: {W}, error {err}')\n",
        "    print(f'Final MSE: {calc_mse(y, np.dot(X, W))}')\n",
        "    return W, classic_errors"
      ],
      "metadata": {
        "id": "y6ofabsrOW4m"
      },
      "execution_count": null,
      "outputs": []
    },
    {
      "cell_type": "code",
      "source": [
        "classic_weights, classic_errors = gradient_descent(X, y, iterations=500, eta=1e-2)"
      ],
      "metadata": {
        "colab": {
          "base_uri": "https://localhost:8080/"
        },
        "id": "-HlTSSw9OZJf",
        "outputId": "4c8ca67f-9541-4fe8-da0c-b6c2960133be"
      },
      "execution_count": null,
      "outputs": [
        {
          "output_type": "stream",
          "name": "stdout",
          "text": [
            "Iter: 0, weights: [0.17281892 0.39928965], error 1661.06095511517\n",
            "Iter: 50, weights: [24.89182296  4.5484187 ], error 275.2480317918285\n",
            "Iter: 100, weights: [34.60368712  5.96891786], error 62.77444122324363\n",
            "Iter: 150, weights: [38.41973842  6.45314869], error 30.144517629250576\n",
            "Iter: 200, weights: [39.91929091  6.61737042], error 25.126807545483082\n",
            "Iter: 250, weights: [40.50859753  6.67272042], error 24.35436797006039\n",
            "Iter: 300, weights: [40.74020354  6.69123529], error 24.2353524377078\n",
            "Iter: 350, weights: [40.83123347  6.69737084], error 24.217001844485328\n",
            "Iter: 400, weights: [40.86701359  6.69938016], error 24.214170813173336\n",
            "Iter: 450, weights: [40.88107796  6.70002819], error 24.213733855585254\n",
            "Final MSE: 24.213666388017867\n"
          ]
        }
      ]
    },
    {
      "cell_type": "code",
      "source": [
        "# стохастический градиентный спуск\n",
        "def stohastic_gradient_descent(X, y, iterations, batch_size, eta=1e-4):\n",
        "    W = np.random.randn(X.shape[1])\n",
        "    n = X.shape[0]\n",
        "    stochastic_errors = []\n",
        "\n",
        "    n_batch = n // batch_size\n",
        "    if n % batch_size != 0:\n",
        "        n_batch += 1\n",
        "    print(f'amount of batches is {n_batch}')\n",
        "\n",
        "    for i in range(0, iterations):\n",
        "\n",
        "        for b in range(n_batch):\n",
        "            inds = np.random.randint(n, size=batch_size)\n",
        "\n",
        "            X_tmp = X[inds, ]\n",
        "            y_tmp = np.array(y)[inds]\n",
        "\n",
        "\n",
        "            y_pred_tmp = np.dot(X_tmp, W)\n",
        "            dQ = 2/len(y_tmp) * X_tmp.T @ (y_pred_tmp - y_tmp) # градиент функции ошибки\n",
        "            W -= (eta * dQ)\n",
        "\n",
        "            err = calc_mse(y, np.dot(X, W))\n",
        "            stochastic_errors.append(err)\n",
        "\n",
        "        if i % (iterations / 10) == 0:\n",
        "            print(f'Iter: {i}, weights: {W}, error {err}')\n",
        "\n",
        "    print(f'Final MSE: {calc_mse(y, np.dot(X, W))}')\n",
        "    return W, stochastic_errors"
      ],
      "metadata": {
        "id": "zbTvRKMHOawS"
      },
      "execution_count": null,
      "outputs": []
    },
    {
      "cell_type": "code",
      "source": [
        "stochastic_weights, stochastic_errors = stohastic_gradient_descent(X, y, iterations=500, batch_size=100, eta=1e-2)"
      ],
      "metadata": {
        "colab": {
          "base_uri": "https://localhost:8080/"
        },
        "id": "-q9kfiHfOc8w",
        "outputId": "729ccf5a-2e83-4e27-8cbc-901379d2f0f5"
      },
      "execution_count": null,
      "outputs": [
        {
          "output_type": "stream",
          "name": "stdout",
          "text": [
            "amount of batches is 10\n",
            "Iter: 0, weights: [7.33996064 1.35662482], error 1096.3104122487027\n",
            "Iter: 50, weights: [40.88582866  6.69706308], error 24.21368271971373\n",
            "Iter: 100, weights: [40.99574004  6.69138709], error 24.22403222310295\n",
            "Iter: 150, weights: [40.84652609  6.67963874], error 24.215866719015906\n",
            "Iter: 200, weights: [40.86915171  6.73574058], error 24.21535191659039\n",
            "Iter: 250, weights: [40.92172776  6.64668905], error 24.21752859886163\n",
            "Iter: 300, weights: [40.87436193  6.6924204 ], error 24.213951241873612\n",
            "Iter: 350, weights: [40.81710489  6.74362897], error 24.220502209790016\n",
            "Iter: 400, weights: [40.91375497  6.73424029], error 24.215362552866374\n",
            "Iter: 450, weights: [40.96258406  6.7107281 ], error 24.21861990151986\n",
            "Final MSE: 24.213757653402208\n"
          ]
        }
      ]
    },
    {
      "cell_type": "code",
      "source": [
        "norm_stochastic_weights, norm_stochastic_errors = stohastic_gradient_descent(X, y, iterations=500, batch_size=4, eta=1e-2)"
      ],
      "metadata": {
        "colab": {
          "base_uri": "https://localhost:8080/"
        },
        "id": "vQlEtzgTAUFA",
        "outputId": "856276be-fce6-45c5-c7e0-01f9f4be68ea"
      },
      "execution_count": null,
      "outputs": [
        {
          "output_type": "stream",
          "name": "stdout",
          "text": [
            "amount of batches is 250\n",
            "Iter: 0, weights: [40.7984952   6.77578711], error 24.22724825959266\n",
            "Iter: 50, weights: [41.26331535  6.63777087], error 24.346249784900966\n",
            "Iter: 100, weights: [41.18740071  6.54165959], error 24.32092380103039\n",
            "Iter: 150, weights: [40.75077214  7.10609579], error 24.401112653943084\n",
            "Iter: 200, weights: [40.99290952  6.75311985], error 24.22633871651994\n",
            "Iter: 250, weights: [40.88237852  7.22603779], error 24.498995994037045\n",
            "Iter: 300, weights: [40.83880015  6.6997167 ], error 24.216096981825128\n",
            "Iter: 350, weights: [40.82369792  6.70372848], error 24.21775276648053\n",
            "Iter: 400, weights: [40.88607845  6.59432597], error 24.225271976587777\n",
            "Iter: 450, weights: [41.08563591  7.06744667], error 24.388759363857506\n",
            "Final MSE: 24.23672239195217\n"
          ]
        }
      ]
    },
    {
      "cell_type": "code",
      "source": [
        "print(len(classic_errors))\n",
        "print(len(stochastic_errors))\n",
        "print(len(norm_stochastic_errors))\n"
      ],
      "metadata": {
        "colab": {
          "base_uri": "https://localhost:8080/"
        },
        "id": "Y08h3O5aVmm-",
        "outputId": "db4e6ec5-2f87-405a-b83d-18d0ed85a98a"
      },
      "execution_count": null,
      "outputs": [
        {
          "output_type": "stream",
          "name": "stdout",
          "text": [
            "500\n",
            "5000\n",
            "125000\n"
          ]
        }
      ]
    },
    {
      "cell_type": "code",
      "source": [
        "plt.figure(figsize=(16, 8))\n",
        "plt.plot(range(len(classic_errors)), classic_errors, label='Classic Gradient Descent')\n",
        "plt.plot(range(len(stochastic_errors)), stochastic_errors, label='Stochastic Gradient Descent')\n",
        "plt.xlabel('Iterations')\n",
        "plt.ylabel('Mean Squared Error')\n",
        "plt.title('Comparison of Convergence Speed')\n",
        "plt.legend()\n",
        "plt.grid(True)\n",
        "plt.show()\n"
      ],
      "metadata": {
        "colab": {
          "base_uri": "https://localhost:8080/",
          "height": 718
        },
        "id": "bNXSAPTGSrRG",
        "outputId": "f2125eba-96c5-4bc5-b960-11a4f9e89f38"
      },
      "execution_count": null,
      "outputs": [
        {
          "output_type": "display_data",
          "data": {
            "text/plain": [
              "<Figure size 1600x800 with 1 Axes>"
            ],
            "image/png": "[encoded data removed]"
          },
          "metadata": {}
        }
      ]
    },
    {
      "cell_type": "markdown",
      "source": [
        "Из результатов итераций видно, что классический градиентный спуск сходится быстрее, чем стохастический градиентный спуск.\n",
        "\n",
        "В классическом градиентном спуске ошибка уменьшается с каждой итерацией и достигает значения около 24.21 после 450 итераций.\n",
        "\n",
        "В стохастическом градиентном спуске ошибка также уменьшается, но скорость сходимости медленнее. Ошибка сходится к значению около 24.21 после 450 итераций, однако она колеблется в процессе обучения, что может быть связано с случайным выбором мини-пакетов данных на каждой итерации.\n",
        "\n",
        "Таким образом, классический градиентный спуск обычно имеет более стабильную сходимость и более предсказуемую динамику уменьшения ошибки по сравнению со стохастическим градиентным спуском. Однако стохастический градиентный спуск может быть предпочтителен в случаях больших объемов данных или когда данные не подходят для полной загрузки в память из-за ограниченных ресурсов."
      ],
      "metadata": {
        "id": "RhwKtfI3WvOX"
      }
    },
    {
      "cell_type": "markdown",
      "source": [
        "#Часть 2. Классификация"
      ],
      "metadata": {
        "id": "BJjV0mYQuS5t"
      }
    },
    {
      "cell_type": "code",
      "source": [
        "import numpy as np\n",
        "import matplotlib.pyplot as plt"
      ],
      "metadata": {
        "id": "nLClrjkhLsH_"
      },
      "execution_count": null,
      "outputs": []
    },
    {
      "cell_type": "code",
      "source": [
        "X = np.array([ [   1,    1,  500,    1],\n",
        "               [   1,    1,  700,    1],\n",
        "               [   1,    2,  750,    2],\n",
        "               [   1,    5,  600,    1],\n",
        "               [   1,    3, 1450,    2],\n",
        "               [   1,    0,  800,    1],\n",
        "               [   1,    5, 1500,    3],\n",
        "               [   1,   10, 2000,    3],\n",
        "               [   1,    1,  450,    1],\n",
        "               [   1,    2, 1000,    2]], dtype=np.float64)\n",
        "\n",
        "y = np.array([0, 0, 1, 0, 1, 0, 1, 0, 1, 1], dtype=np.float64)"
      ],
      "metadata": {
        "id": "T6lGm4kBLsnr"
      },
      "execution_count": null,
      "outputs": []
    },
    {
      "cell_type": "code",
      "source": [
        "X"
      ],
      "metadata": {
        "colab": {
          "base_uri": "https://localhost:8080/"
        },
        "id": "ls25v_yiLukj",
        "outputId": "acf25e70-0cdc-43dc-e8ff-290fc476283b"
      },
      "execution_count": null,
      "outputs": [
        {
          "output_type": "execute_result",
          "data": {
            "text/plain": [
              "array([[1.00e+00, 1.00e+00, 5.00e+02, 1.00e+00],\n",
              "       [1.00e+00, 1.00e+00, 7.00e+02, 1.00e+00],\n",
              "       [1.00e+00, 2.00e+00, 7.50e+02, 2.00e+00],\n",
              "       [1.00e+00, 5.00e+00, 6.00e+02, 1.00e+00],\n",
              "       [1.00e+00, 3.00e+00, 1.45e+03, 2.00e+00],\n",
              "       [1.00e+00, 0.00e+00, 8.00e+02, 1.00e+00],\n",
              "       [1.00e+00, 5.00e+00, 1.50e+03, 3.00e+00],\n",
              "       [1.00e+00, 1.00e+01, 2.00e+03, 3.00e+00],\n",
              "       [1.00e+00, 1.00e+00, 4.50e+02, 1.00e+00],\n",
              "       [1.00e+00, 2.00e+00, 1.00e+03, 2.00e+00]])"
            ]
          },
          "metadata": {},
          "execution_count": 17
        }
      ]
    },
    {
      "cell_type": "code",
      "source": [
        "y"
      ],
      "metadata": {
        "colab": {
          "base_uri": "https://localhost:8080/"
        },
        "id": "mEYcf4psLxjW",
        "outputId": "552c6263-907b-481d-d0a1-b4bcf9056d05"
      },
      "execution_count": null,
      "outputs": [
        {
          "output_type": "execute_result",
          "data": {
            "text/plain": [
              "array([0., 0., 1., 0., 1., 0., 1., 0., 1., 1.])"
            ]
          },
          "metadata": {},
          "execution_count": 4
        }
      ]
    },
    {
      "cell_type": "code",
      "source": [
        "def standard_scale(x):\n",
        "    res = (x - x.mean()) / x.std()\n",
        "    return res"
      ],
      "metadata": {
        "id": "3Z9tHl9WLzGh"
      },
      "execution_count": null,
      "outputs": []
    },
    {
      "cell_type": "code",
      "source": [
        "X_st = X.copy()\n",
        "X_st[:, 2] = standard_scale(X[:, 2])"
      ],
      "metadata": {
        "id": "JLpbmoCqL04t"
      },
      "execution_count": null,
      "outputs": []
    },
    {
      "cell_type": "code",
      "source": [
        "X_st"
      ],
      "metadata": {
        "colab": {
          "base_uri": "https://localhost:8080/"
        },
        "id": "JArRA3QOL_mC",
        "outputId": "9ef754fa-859e-4ab8-c56d-6d7bcdac8974"
      },
      "execution_count": null,
      "outputs": [
        {
          "output_type": "execute_result",
          "data": {
            "text/plain": [
              "array([[ 1.        ,  1.        , -0.97958969,  1.        ],\n",
              "       [ 1.        ,  1.        , -0.56713087,  1.        ],\n",
              "       [ 1.        ,  2.        , -0.46401617,  2.        ],\n",
              "       [ 1.        ,  5.        , -0.77336028,  1.        ],\n",
              "       [ 1.        ,  3.        ,  0.97958969,  2.        ],\n",
              "       [ 1.        ,  0.        , -0.36090146,  1.        ],\n",
              "       [ 1.        ,  5.        ,  1.08270439,  3.        ],\n",
              "       [ 1.        , 10.        ,  2.11385144,  3.        ],\n",
              "       [ 1.        ,  1.        , -1.08270439,  1.        ],\n",
              "       [ 1.        ,  2.        ,  0.05155735,  2.        ]])"
            ]
          },
          "metadata": {},
          "execution_count": 7
        }
      ]
    },
    {
      "cell_type": "code",
      "source": [
        "def sigmoid(z):\n",
        "    res = 1 / (1 + np.exp(-z))\n",
        "    return res"
      ],
      "metadata": {
        "id": "gvqV4Q6gOjUH"
      },
      "execution_count": null,
      "outputs": []
    },
    {
      "cell_type": "code",
      "source": [
        "z = np.linspace(-10, 10, 101)"
      ],
      "metadata": {
        "id": "CYqM8PVYOx1t"
      },
      "execution_count": null,
      "outputs": []
    },
    {
      "cell_type": "code",
      "source": [
        "probabilities = sigmoid(z)"
      ],
      "metadata": {
        "id": "U4KYc25HO12B"
      },
      "execution_count": null,
      "outputs": []
    },
    {
      "cell_type": "code",
      "source": [
        "plt.plot(z, probabilities)\n",
        "plt.show()"
      ],
      "metadata": {
        "colab": {
          "base_uri": "https://localhost:8080/",
          "height": 430
        },
        "id": "b9GkZIMgO3aM",
        "outputId": "62df8df5-1554-472c-a5d4-745099685319"
      },
      "execution_count": null,
      "outputs": [
        {
          "output_type": "display_data",
          "data": {
            "text/plain": [
              "<Figure size 640x480 with 1 Axes>"
            ],
            "image/png": "[encoded data removed]"
          },
          "metadata": {}
        }
      ]
    },
    {
      "cell_type": "markdown",
      "source": [
        "##Измените функцию calc_logloss так, чтобы нули по возможности не попадали в np.log."
      ],
      "metadata": {
        "id": "OO9zO0yGLfOO"
      }
    },
    {
      "cell_type": "code",
      "source": [
        "def calc_logloss(y, y_pred):\n",
        "    err = - np.mean(y * np.log(y_pred + 1e-100) + (1.0 - y) * np.log(1.0 - y_pred + 1e-100))\n",
        "    return err"
      ],
      "metadata": {
        "id": "uRphJBhTuXWC"
      },
      "execution_count": null,
      "outputs": []
    },
    {
      "cell_type": "markdown",
      "source": [
        "##Подберите аргументы функции eval_model для логистической регрессии таким образом, чтобы log loss был минимальным.\n"
      ],
      "metadata": {
        "id": "DwKcKJKrO8Ew"
      }
    },
    {
      "cell_type": "code",
      "source": [
        "def eval_model(X, y, iterations, eta=1e-4):\n",
        "    np.random.seed(42)\n",
        "    W = np.random.randn(X.shape[1])\n",
        "    n = X.shape[0]\n",
        "\n",
        "    for i in range(iterations):\n",
        "        z = np.dot(X, W)\n",
        "        y_pred = sigmoid(z)\n",
        "        err = calc_logloss(y, y_pred)\n",
        "\n",
        "        dQ = 1/n * X.T @ (y_pred - y)\n",
        "        W -= eta * dQ\n",
        "        if i % (iterations / 10) == 0:\n",
        "            print(i, W, err)\n",
        "    return W, err"
      ],
      "metadata": {
        "id": "oe0Xcb5dO9tv"
      },
      "execution_count": null,
      "outputs": []
    },
    {
      "cell_type": "code",
      "source": [
        "W, err = eval_model(X_st, y, iterations=500, eta=1e-4)"
      ],
      "metadata": {
        "colab": {
          "base_uri": "https://localhost:8080/"
        },
        "id": "d5o8TzrMPBSU",
        "outputId": "6617868a-024a-4eb0-fcef-a8ab5f975cdb"
      },
      "execution_count": null,
      "outputs": [
        {
          "output_type": "stream",
          "name": "stdout",
          "text": [
            "0 [ 0.49667621 -0.13840939  0.6476858   1.52297324] 1.1785958344356262\n",
            "50 [ 0.494784   -0.14564801  0.6475462   1.52014828] 1.1657985749255426\n",
            "100 [ 0.49290109 -0.15285535  0.64740132  1.51733474] 1.1531112685708473\n",
            "150 [ 0.49102761 -0.16003088  0.64725118  1.51453281] 1.140535275330502\n",
            "200 [ 0.48916364 -0.16717404  0.64709581  1.51174267] 1.1280719326917483\n",
            "250 [ 0.48730929 -0.17428428  0.64693524  1.50896452] 1.1157225565960736\n",
            "300 [ 0.48546465 -0.18136107  0.64676951  1.50619853] 1.1034884426224387\n",
            "350 [ 0.48362982 -0.18840385  0.64659868  1.5034449 ] 1.0913708674192037\n",
            "400 [ 0.48180488 -0.19541206  0.64642281  1.50070383] 1.0793710903721336\n",
            "450 [ 0.47998993 -0.20238516  0.64624195  1.49797551] 1.0674903554915993\n"
          ]
        }
      ]
    },
    {
      "cell_type": "code",
      "source": [
        "best_eta = None\n",
        "best_loss = float('inf')\n",
        "best_itter = None\n",
        "\n",
        "for eta in [1e-2, 1e-3, 1e-4, 1e-5]:\n",
        "  for itter in [100, 200, 500, 1000]:\n",
        "      W, loss = eval_model(X_st, y, iterations=itter, eta=eta)\n",
        "      #loss = calc_logloss(y, sigmoid(np.dot(X, W)))\n",
        "      print(f\"eta={eta}, loss={loss}, itter={itter}\")\n",
        "\n",
        "      if loss < best_loss:\n",
        "          best_loss = loss\n",
        "          best_eta = eta\n",
        "          best_itter = itter\n",
        "\n",
        "\n",
        "print(f\"Best eta: {best_eta}, Best loss: {best_loss}, Beat itteration: {best_itter}\")\n"
      ],
      "metadata": {
        "colab": {
          "base_uri": "https://localhost:8080/"
        },
        "id": "1pVUCKjSPg_i",
        "outputId": "dbf26634-9b39-483b-e978-ff6ec493bd6e"
      },
      "execution_count": null,
      "outputs": [
        {
          "output_type": "stream",
          "name": "stdout",
          "text": [
            "0 [ 0.49292028 -0.15277306  0.64741473  1.51736839] 1.1785958344356262\n",
            "10 [ 0.45716545 -0.29020457  0.64358435  1.46353934] 0.9439281874655927\n",
            "20 [ 0.42583815 -0.41002318  0.63860792  1.41613249] 0.7629674823832604\n",
            "30 [ 0.39946014 -0.50547751  0.63475526  1.37761452] 0.6444556387219081\n",
            "40 [ 0.37794133 -0.57330754  0.63392622  1.34919108] 0.5817430955038271\n",
            "50 [ 0.36027236 -0.61870558  0.63600367  1.32917611] 0.5520011913232798\n",
            "60 [ 0.34529934 -0.64913519  0.64002293  1.31503971] 0.5374805333625672\n",
            "70 [ 0.3321925  -0.66994677  0.64521411  1.30488943] 0.529743381176863\n",
            "80 [ 0.32041408 -0.68443409  0.65110213  1.29750127] 0.5251782755939146\n",
            "90 [ 0.30961151 -0.69463063  0.65740053  1.29208161] 0.5221864742903717\n",
            "eta=0.01, loss=0.5202099204174199, itter=100\n",
            "0 [ 0.49292028 -0.15277306  0.64741473  1.51736839] 1.1785958344356262\n",
            "20 [ 0.42583815 -0.41002318  0.63860792  1.41613249] 0.7629674823832604\n",
            "40 [ 0.37794133 -0.57330754  0.63392622  1.34919108] 0.5817430955038271\n",
            "60 [ 0.34529934 -0.64913519  0.64002293  1.31503971] 0.5374805333625672\n",
            "80 [ 0.32041408 -0.68443409  0.65110213  1.29750127] 0.5251782755939146\n",
            "100 [ 0.29954562 -0.70184086  0.66393101  1.28809857] 0.5200176817937363\n",
            "120 [ 0.28100213 -0.71051101  0.67726555  1.28307706] 0.516846539686829\n",
            "140 [ 0.26392997 -0.71467923  0.69056589  1.2805813 ] 0.5143644024994509\n",
            "160 [ 0.24786698 -0.71649433  0.70357663  1.2796261 ] 0.5121960866080918\n",
            "180 [ 0.23255196 -0.71709946  0.71617468  1.27966781] 0.5102209790037937\n",
            "eta=0.01, loss=0.5084820542970339, itter=200\n",
            "0 [ 0.49292028 -0.15277306  0.64741473  1.51736839] 1.1785958344356262\n",
            "50 [ 0.36027236 -0.61870558  0.63600367  1.32917611] 0.5520011913232798\n",
            "100 [ 0.29954562 -0.70184086  0.66393101  1.28809857] 0.5200176817937363\n",
            "150 [ 0.25579198 -0.71579324  0.69711726  1.27995239] 0.5132514064065892\n",
            "200 [ 0.21783205 -0.71711535  0.72830416  1.28039917] 0.5083938298746018\n",
            "250 [ 0.18310418 -0.71643331  0.75649022  1.2842512 ] 0.504348220292456\n",
            "300 [ 0.15081179 -0.71601562  0.78172777  1.29014996] 0.500908097886405\n",
            "350 [ 0.1205791  -0.71626694  0.80427962  1.29762315] 0.49794267439739776\n",
            "400 [ 0.09214433 -0.71718068  0.82443144  1.306414  ] 0.49535059743739646\n",
            "450 [ 0.06528918 -0.71867134  0.84244939  1.31632795] 0.49305272027822244\n",
            "eta=0.01, loss=0.4910268478489977, itter=500\n",
            "0 [ 0.49292028 -0.15277306  0.64741473  1.51736839] 1.1785958344356262\n",
            "100 [ 0.29954562 -0.70184086  0.66393101  1.28809857] 0.5200176817937363\n",
            "200 [ 0.21783205 -0.71711535  0.72830416  1.28039917] 0.5083938298746018\n",
            "300 [ 0.15081179 -0.71601562  0.78172777  1.29014996] 0.500908097886405\n",
            "400 [ 0.09214433 -0.71718068  0.82443144  1.306414  ] 0.49535059743739646\n",
            "500 [ 0.03982235 -0.72064774  0.8585723   1.32719824] 0.49098749514946327\n",
            "600 [-0.00760312 -0.72573949  0.88595525  1.35123708] 0.48737496424720916\n",
            "700 [-0.05125883 -0.73192167  0.90799082  1.37755197] 0.4842468146117195\n",
            "800 [-0.0920137  -0.7388      0.92576955  1.40539219] 0.4814434848660955\n",
            "900 [-0.13053215 -0.7460864   0.94013195  1.43419101] 0.47886846544307693\n",
            "eta=0.01, loss=0.47648567288032373, itter=1000\n",
            "0 [ 0.49633477 -0.13971518  0.64766116  1.52246371] 1.1785958344356262\n",
            "10 [ 0.49256133 -0.15415548  0.64737572  1.51682727] 1.1531014618051856\n",
            "20 [ 0.48882562 -0.16846826  0.64706926  1.51123736] 1.1280522619626043\n",
            "30 [ 0.48512842 -0.18264912  0.64674201  1.50569546] 1.1034588743343066\n",
            "40 [ 0.48147049 -0.19669369  0.64639436  1.5002031 ] 1.079331613891728\n",
            "50 [ 0.47785256 -0.2105975   0.64602682  1.49476184] 1.0556805203010988\n",
            "60 [ 0.47427533 -0.22435606  0.64564003  1.48937331] 1.0325154210023944\n",
            "70 [ 0.47073945 -0.23796476  0.6452348   1.48403919] 1.0098460052301061\n",
            "80 [ 0.46724558 -0.25141887  0.64481207  1.47876122] 0.9876819048321799\n",
            "90 [ 0.46379432 -0.26471347  0.64437297  1.47354124] 0.9660327765871163\n",
            "eta=0.001, loss=0.9469969250572376, itter=100\n",
            "0 [ 0.49633477 -0.13971518  0.64766116  1.52246371] 1.1785958344356262\n",
            "20 [ 0.48882562 -0.16846826  0.64706926  1.51123736] 1.1280522619626043\n",
            "40 [ 0.48147049 -0.19669369  0.64639436  1.5002031 ] 1.079331613891728\n",
            "60 [ 0.47427533 -0.22435606  0.64564003  1.48937331] 1.0325154210023944\n",
            "80 [ 0.46724558 -0.25141887  0.64481207  1.47876122] 0.9876819048321799\n",
            "100 [ 0.46038628 -0.27784345  0.64391879  1.46838117] 0.9449083796207038\n",
            "120 [ 0.45370219 -0.30358781  0.64297126  1.45824895] 0.9042736982892192\n",
            "140 [ 0.44719786 -0.32860549  0.64198336  1.44838204] 0.8658598790088418\n",
            "160 [ 0.44087778 -0.35284484  0.64097176  1.43879974] 0.8297518871175656\n",
            "180 [ 0.4347464  -0.37624916  0.63995566  1.42952293] 0.7960345977485667\n",
            "eta=0.001, loss=0.766289073525106, itter=200\n",
            "0 [ 0.49633477 -0.13971518  0.64766116  1.52246371] 1.1785958344356262\n",
            "50 [ 0.47785256 -0.2105975   0.64602682  1.49476184] 1.0556805203010988\n",
            "100 [ 0.46038628 -0.27784345  0.64391879  1.46838117] 0.9449083796207038\n",
            "150 [ 0.44401451 -0.34082589  0.64147938  1.44355404] 0.8475122895111162\n",
            "200 [ 0.42880798 -0.398758    0.63895621  1.42057357] 0.76478635339061\n",
            "250 [ 0.41482974 -0.45071765  0.63667596  1.39977391] 0.697804931233658\n",
            "300 [ 0.40211124 -0.49592634  0.63495855  1.38143191] 0.6465819250979653\n",
            "350 [ 0.39061876 -0.53414158  0.63400956  1.36563928] 0.6094421297946513\n",
            "400 [ 0.3802473  -0.56578851  0.63387547  1.35226238] 0.5834626177311397\n",
            "450 [ 0.37084977 -0.59173382  0.63448428  1.34101677] 0.5655430132819176\n",
            "eta=0.001, loss=0.5533458057511684, itter=500\n",
            "0 [ 0.49633477 -0.13971518  0.64766116  1.52246371] 1.1785958344356262\n",
            "100 [ 0.46038628 -0.27784345  0.64391879  1.46838117] 0.9449083796207038\n",
            "200 [ 0.42880798 -0.398758    0.63895621  1.42057357] 0.76478635339061\n",
            "300 [ 0.40211124 -0.49592634  0.63495855  1.38143191] 0.6465819250979653\n",
            "400 [ 0.3802473  -0.56578851  0.63387547  1.35226238] 0.5834626177311397\n",
            "500 [ 0.36227303 -0.61296537  0.6357139   1.33157192] 0.5531388819143023\n",
            "600 [ 0.34705426 -0.6447563   0.63955258  1.31689489] 0.5381879835818275\n",
            "700 [ 0.33375348 -0.66658248  0.64461446  1.30632368] 0.5301812678912075\n",
            "800 [ 0.32182152 -0.6818318   0.65041019  1.29860717] 0.5254538963664757\n",
            "900 [ 0.31089651 -0.69260819  0.65664232  1.29292959] 0.5223650188440195\n",
            "eta=0.001, loss=0.5201575151201117, itter=1000\n",
            "0 [ 0.49667621 -0.13840939  0.6476858   1.52297324] 1.1785958344356262\n",
            "10 [ 0.49629703 -0.13985959  0.6476583   1.52240734] 1.1760276523325583\n",
            "20 [ 0.49591822 -0.14130855  0.64763059  1.5218419 ] 1.1734638242468702\n",
            "30 [ 0.49553977 -0.14275628  0.64760267  1.5212769 ] 1.1709043612804575\n",
            "40 [ 0.4951617  -0.14420277  0.64757454  1.52071236] 1.1683492744976867\n",
            "50 [ 0.494784   -0.14564801  0.6475462   1.52014828] 1.1657985749255426\n",
            "60 [ 0.49440667 -0.14709199  0.64751765  1.51958465] 1.1632522735537618\n",
            "70 [ 0.49402971 -0.14853473  0.64748888  1.51902148] 1.1607103813349897\n",
            "80 [ 0.49365313 -0.1499762   0.6474599   1.51845877] 1.1581729091849757\n",
            "90 [ 0.49327692 -0.15141641  0.64743072  1.51789652] 1.1556398679827482\n",
            "eta=0.0001, loss=1.1533639283232127, itter=100\n",
            "0 [ 0.49667621 -0.13840939  0.6476858   1.52297324] 1.1785958344356262\n",
            "20 [ 0.49591822 -0.14130855  0.64763059  1.5218419 ] 1.1734638242468702\n",
            "40 [ 0.4951617  -0.14420277  0.64757454  1.52071236] 1.1683492744976867\n",
            "60 [ 0.49440667 -0.14709199  0.64751765  1.51958465] 1.1632522735537618\n",
            "80 [ 0.49365313 -0.1499762   0.6474599   1.51845877] 1.1581729091849757\n",
            "100 [ 0.49290109 -0.15285535  0.64740132  1.51733474] 1.1531112685708473\n",
            "120 [ 0.49215056 -0.15572941  0.64734189  1.51621256] 1.1480674383070786\n",
            "140 [ 0.49140155 -0.15859834  0.64728163  1.51509226] 1.1430415044131395\n",
            "160 [ 0.49065405 -0.16146212  0.64722052  1.51397383] 1.1380335523409832\n",
            "180 [ 0.48990808 -0.16432069  0.64715858  1.5128573 ] 1.1330436669847785\n",
            "eta=0.0001, loss=1.128320087022663, itter=200\n",
            "0 [ 0.49667621 -0.13840939  0.6476858   1.52297324] 1.1785958344356262\n",
            "50 [ 0.494784   -0.14564801  0.6475462   1.52014828] 1.1657985749255426\n",
            "100 [ 0.49290109 -0.15285535  0.64740132  1.51733474] 1.1531112685708473\n",
            "150 [ 0.49102761 -0.16003088  0.64725118  1.51453281] 1.140535275330502\n",
            "200 [ 0.48916364 -0.16717404  0.64709581  1.51174267] 1.1280719326917483\n",
            "250 [ 0.48730929 -0.17428428  0.64693524  1.50896452] 1.1157225565960736\n",
            "300 [ 0.48546465 -0.18136107  0.64676951  1.50619853] 1.1034884426224387\n",
            "350 [ 0.48362982 -0.18840385  0.64659868  1.5034449 ] 1.0913708674192037\n",
            "400 [ 0.48180488 -0.19541206  0.64642281  1.50070383] 1.0793710903721336\n",
            "450 [ 0.47998993 -0.20238516  0.64624195  1.49797551] 1.0674903554915993\n",
            "eta=0.0001, loss=1.0559639161585663, itter=500\n",
            "0 [ 0.49667621 -0.13840939  0.6476858   1.52297324] 1.1785958344356262\n",
            "100 [ 0.49290109 -0.15285535  0.64740132  1.51733474] 1.1531112685708473\n",
            "200 [ 0.48916364 -0.16717404  0.64709581  1.51174267] 1.1280719326917483\n",
            "300 [ 0.48546465 -0.18136107  0.64676951  1.50619853] 1.1034884426224387\n",
            "400 [ 0.48180488 -0.19541206  0.64642281  1.50070383] 1.0793710903721336\n",
            "500 [ 0.47818506 -0.20932258  0.64605619  1.49526014] 1.0557298934977983\n",
            "600 [ 0.47460588 -0.22308813  0.6456703   1.48986907] 1.0325746582877384\n",
            "700 [ 0.47106801 -0.23670411  0.64526593  1.4845323 ] 1.0099150537568387\n",
            "800 [ 0.46757208 -0.25016581  0.64484403  1.47925157] 0.9877606922922111\n",
            "900 [ 0.46411872 -0.26346833  0.64440571  1.47402871] 0.9661212116381199\n",
            "eta=0.0001, loss=0.945214871179169, itter=1000\n",
            "0 [ 0.49671036 -0.13827881  0.64768826  1.52302419] 1.1785958344356262\n",
            "10 [ 0.49667242 -0.13842389  0.64768553  1.52296758] 1.1783388303836566\n",
            "20 [ 0.49663449 -0.13856896  0.64768278  1.52291098] 1.1780818697724584\n",
            "30 [ 0.49659656 -0.13871402  0.64768004  1.52285437] 1.1778249526131817\n",
            "40 [ 0.49655863 -0.13885906  0.64767729  1.52279777] 1.177568078916973\n",
            "50 [ 0.49652071 -0.13900409  0.64767455  1.52274118] 1.1773112486949733\n",
            "60 [ 0.49648279 -0.13914911  0.6476718   1.52268459] 1.177054461958323\n",
            "70 [ 0.49644488 -0.13929412  0.64766905  1.522628  ] 1.176797718718158\n",
            "80 [ 0.49640697 -0.13943911  0.64766629  1.52257142] 1.1765410189856091\n",
            "90 [ 0.49636906 -0.13958409  0.64766354  1.52251485] 1.1762843627718023\n",
            "eta=1e-05, loss=1.1760534093970987, itter=100\n",
            "0 [ 0.49671036 -0.13827881  0.64768826  1.52302419] 1.1785958344356262\n",
            "20 [ 0.49663449 -0.13856896  0.64768278  1.52291098] 1.1780818697724584\n",
            "40 [ 0.49655863 -0.13885906  0.64767729  1.52279777] 1.177568078916973\n",
            "60 [ 0.49648279 -0.13914911  0.6476718   1.52268459] 1.177054461958323\n",
            "80 [ 0.49640697 -0.13943911  0.64766629  1.52257142] 1.1765410189856091\n",
            "100 [ 0.49633116 -0.13972906  0.64766078  1.52245828] 1.1760277500878655\n",
            "120 [ 0.49625536 -0.14001897  0.64765525  1.52234515] 1.1755146553540703\n",
            "140 [ 0.49617958 -0.14030882  0.64764972  1.52223203] 1.1750017348731376\n",
            "160 [ 0.49610382 -0.14059863  0.64764418  1.52211894] 1.174488988733922\n",
            "180 [ 0.49602806 -0.14088838  0.64763863  1.52200587] 1.1739764170252251\n",
            "eta=1e-05, loss=1.1734896355490472, itter=200\n",
            "0 [ 0.49671036 -0.13827881  0.64768826  1.52302419] 1.1785958344356262\n",
            "50 [ 0.49652071 -0.13900409  0.64767455  1.52274118] 1.1773112486949733\n",
            "100 [ 0.49633116 -0.13972906  0.64766078  1.52245828] 1.1760277500878655\n",
            "150 [ 0.4961417  -0.14045373  0.64764695  1.52217549] 1.1747453400052617\n",
            "200 [ 0.49595233 -0.14117809  0.64763308  1.52189281] 1.1734640198357766\n",
            "250 [ 0.49576305 -0.14190213  0.64761915  1.52161024] 1.172183790965665\n",
            "300 [ 0.49557387 -0.14262587  0.64760517  1.52132779] 1.1709046547788489\n",
            "350 [ 0.49538477 -0.1433493   0.64759113  1.52104546] 1.169626612656898\n",
            "400 [ 0.49519578 -0.14407241  0.64757705  1.52076323] 1.1683496659790535\n",
            "450 [ 0.49500687 -0.14479522  0.6475629   1.52048112] 1.1670738161222205\n",
            "eta=1e-05, loss=1.1658245487230008, itter=500\n",
            "0 [ 0.49671036 -0.13827881  0.64768826  1.52302419] 1.1785958344356262\n",
            "100 [ 0.49633116 -0.13972906  0.64766078  1.52245828] 1.1760277500878655\n",
            "200 [ 0.49595233 -0.14117809  0.64763308  1.52189281] 1.1734640198357766\n",
            "300 [ 0.49557387 -0.14262587  0.64760517  1.52132779] 1.1709046547788489\n",
            "400 [ 0.49519578 -0.14407241  0.64757705  1.52076323] 1.1683496659790535\n",
            "500 [ 0.49481806 -0.14551771  0.64754871  1.52019913] 1.1657990644609755\n",
            "600 [ 0.49444071 -0.14696175  0.64752017  1.51963548] 1.163252861211943\n",
            "700 [ 0.49406374 -0.14840454  0.64749141  1.51907229] 1.1607110671822176\n",
            "800 [ 0.49368714 -0.14984607  0.64746244  1.51850956] 1.1581736932851432\n",
            "900 [ 0.49331092 -0.15128634  0.64743327  1.51794729] 1.155640750397366\n",
            "eta=1e-05, loss=1.1531375123467569, itter=1000\n",
            "Best eta: 0.01, Best loss: 0.47648567288032373, Beat itteration: 1000\n"
          ]
        }
      ]
    },
    {
      "cell_type": "markdown",
      "source": [
        "Best eta: 0.01, Best loss: 0.47648567288032373, Beat itteration: 1000"
      ],
      "metadata": {
        "id": "x432dpsodAMY"
      }
    },
    {
      "cell_type": "markdown",
      "source": [
        "##Создайте функцию calc_pred_proba, возвращающую предсказанную вероятность класса 1 (на вход подаются W, который уже посчитан функцией eval_model и X, на выходе - массив y_pred_proba).\n"
      ],
      "metadata": {
        "id": "bSH9To5pdG5r"
      }
    },
    {
      "cell_type": "code",
      "source": [
        "W, err = eval_model(X_st, y, iterations=1000, eta=1e-2)"
      ],
      "metadata": {
        "colab": {
          "base_uri": "https://localhost:8080/"
        },
        "id": "el8Dn42idJ6B",
        "outputId": "b9879c4e-e830-4882-88db-37acdb78a68b"
      },
      "execution_count": null,
      "outputs": [
        {
          "output_type": "stream",
          "name": "stdout",
          "text": [
            "0 [ 0.49292028 -0.15277306  0.64741473  1.51736839] 1.1785958344356262\n",
            "100 [ 0.29954562 -0.70184086  0.66393101  1.28809857] 0.5200176817937363\n",
            "200 [ 0.21783205 -0.71711535  0.72830416  1.28039917] 0.5083938298746018\n",
            "300 [ 0.15081179 -0.71601562  0.78172777  1.29014996] 0.500908097886405\n",
            "400 [ 0.09214433 -0.71718068  0.82443144  1.306414  ] 0.49535059743739646\n",
            "500 [ 0.03982235 -0.72064774  0.8585723   1.32719824] 0.49098749514946327\n",
            "600 [-0.00760312 -0.72573949  0.88595525  1.35123708] 0.48737496424720916\n",
            "700 [-0.05125883 -0.73192167  0.90799082  1.37755197] 0.4842468146117195\n",
            "800 [-0.0920137  -0.7388      0.92576955  1.40539219] 0.4814434848660955\n",
            "900 [-0.13053215 -0.7460864   0.94013195  1.43419101] 0.47886846544307693\n"
          ]
        }
      ]
    },
    {
      "cell_type": "code",
      "source": [
        "def calc_pred_proba(X, W):\n",
        "  z = np.dot(X, W)\n",
        "  y_pred_proba = sigmoid(z)\n",
        "\n",
        "  return y_pred_proba"
      ],
      "metadata": {
        "id": "g0rg9KTcCXFg"
      },
      "execution_count": null,
      "outputs": []
    },
    {
      "cell_type": "code",
      "source": [
        "y_pred_proba = calc_pred_proba(X_st, W)\n",
        "y_pred_proba"
      ],
      "metadata": {
        "colab": {
          "base_uri": "https://localhost:8080/"
        },
        "id": "GPWXKPuAKoqf",
        "outputId": "f6dd44fa-afea-48a8-f8b1-958b0bc3a477"
      },
      "execution_count": null,
      "outputs": [
        {
          "output_type": "execute_result",
          "data": {
            "text/plain": [
              "array([0.40385615, 0.5007704 , 0.69231032, 0.03889726, 0.80709023,\n",
              "       0.7216841 , 0.8154135 , 0.21405664, 0.38047102, 0.7860997 ])"
            ]
          },
          "metadata": {},
          "execution_count": 29
        }
      ]
    },
    {
      "cell_type": "markdown",
      "source": [
        "##Создайте функцию calc_pred, возвращающую предсказанный класс (на вход подаются W, который уже посчитан функцией eval_model и X, на выходе - массив y_pred).\n"
      ],
      "metadata": {
        "id": "2v2113-xD9v5"
      }
    },
    {
      "cell_type": "code",
      "source": [
        "W, err = eval_model(X_st, y, iterations=1000, eta=1e-2)"
      ],
      "metadata": {
        "colab": {
          "base_uri": "https://localhost:8080/"
        },
        "id": "gatSmJ3_FifN",
        "outputId": "48c1305d-465f-454c-e510-58c9798abd23"
      },
      "execution_count": null,
      "outputs": [
        {
          "output_type": "stream",
          "name": "stdout",
          "text": [
            "0 [ 0.49292028 -0.15277306  0.64741473  1.51736839] 1.1785958344356262\n",
            "100 [ 0.29954562 -0.70184086  0.66393101  1.28809857] 0.5200176817937363\n",
            "200 [ 0.21783205 -0.71711535  0.72830416  1.28039917] 0.5083938298746018\n",
            "300 [ 0.15081179 -0.71601562  0.78172777  1.29014996] 0.500908097886405\n",
            "400 [ 0.09214433 -0.71718068  0.82443144  1.306414  ] 0.49535059743739646\n",
            "500 [ 0.03982235 -0.72064774  0.8585723   1.32719824] 0.49098749514946327\n",
            "600 [-0.00760312 -0.72573949  0.88595525  1.35123708] 0.48737496424720916\n",
            "700 [-0.05125883 -0.73192167  0.90799082  1.37755197] 0.4842468146117195\n",
            "800 [-0.0920137  -0.7388      0.92576955  1.40539219] 0.4814434848660955\n",
            "900 [-0.13053215 -0.7460864   0.94013195  1.43419101] 0.47886846544307693\n"
          ]
        }
      ]
    },
    {
      "cell_type": "code",
      "source": [
        "def  calc_pred(X, W):\n",
        "  y_pred_proba = calc_pred_proba(X, W)\n",
        "  y_pred = np.where(y_pred_proba > 0.5, 1, 0)\n",
        "\n",
        "\n",
        "  return y_pred"
      ],
      "metadata": {
        "id": "rmbiQEdVEAhZ"
      },
      "execution_count": null,
      "outputs": []
    },
    {
      "cell_type": "code",
      "source": [
        "y_pred = calc_pred(X_st, W)\n",
        "y_pred"
      ],
      "metadata": {
        "colab": {
          "base_uri": "https://localhost:8080/"
        },
        "id": "mTynhEprFWT_",
        "outputId": "57651e75-8f8d-4252-b28c-6bac85c4a3ba"
      },
      "execution_count": null,
      "outputs": [
        {
          "output_type": "execute_result",
          "data": {
            "text/plain": [
              "array([0, 1, 1, 0, 1, 1, 1, 0, 0, 1])"
            ]
          },
          "metadata": {},
          "execution_count": 58
        }
      ]
    },
    {
      "cell_type": "markdown",
      "source": [
        "##Реализуйте функции для подсчета Accuracy, матрицы ошибок, точности и полноты, а также F1 score"
      ],
      "metadata": {
        "id": "okXX4dJLHtWJ"
      }
    },
    {
      "cell_type": "code",
      "source": [
        "def accuracy(y_pred, y):\n",
        "  accuracy = (y_pred == y).sum() / len(y)\n",
        "  return accuracy"
      ],
      "metadata": {
        "id": "VE1WY27wHu5k"
      },
      "execution_count": null,
      "outputs": []
    },
    {
      "cell_type": "code",
      "source": [
        "acc = accuracy(y_pred, y)\n",
        "acc"
      ],
      "metadata": {
        "colab": {
          "base_uri": "https://localhost:8080/"
        },
        "id": "dQw9CmWaOhng",
        "outputId": "7bcea37d-5799-4284-bf95-44603d658323"
      },
      "execution_count": null,
      "outputs": [
        {
          "output_type": "execute_result",
          "data": {
            "text/plain": [
              "0.7"
            ]
          },
          "metadata": {},
          "execution_count": 70
        }
      ]
    },
    {
      "cell_type": "code",
      "source": [
        "def confusion_matrix(y_pred, y):\n",
        "  confusion_matrix = np.zeros((2, 2))\n",
        "  for i in range(len(y)):\n",
        "      confusion_matrix[int(y[i]), int(y_pred[i])] += 1\n",
        "  return confusion_matrix"
      ],
      "metadata": {
        "id": "8F2L04R-JM9b"
      },
      "execution_count": null,
      "outputs": []
    },
    {
      "cell_type": "code",
      "source": [
        "conf_mat = confusion_matrix(y_pred, y)\n",
        "conf_mat"
      ],
      "metadata": {
        "colab": {
          "base_uri": "https://localhost:8080/"
        },
        "id": "Os-dqw0XNEc2",
        "outputId": "84ebff48-7b06-45d3-85a5-63f2b67aea0e"
      },
      "execution_count": null,
      "outputs": [
        {
          "output_type": "execute_result",
          "data": {
            "text/plain": [
              "array([[3., 2.],\n",
              "       [1., 4.]])"
            ]
          },
          "metadata": {},
          "execution_count": 72
        }
      ]
    },
    {
      "cell_type": "code",
      "source": [
        "def precision(y_pred, y):\n",
        "  conf_mat = confusion_matrix(y_pred, y)\n",
        "  tp = conf_mat[1][1]\n",
        "  fp = conf_mat[0][1]\n",
        "\n",
        "  return tp / (tp + fp)"
      ],
      "metadata": {
        "id": "Vj-NdFAPPuR2"
      },
      "execution_count": null,
      "outputs": []
    },
    {
      "cell_type": "code",
      "source": [
        "precision_val = precision(y_pred, y)\n",
        "precision_val"
      ],
      "metadata": {
        "colab": {
          "base_uri": "https://localhost:8080/"
        },
        "id": "zM8rzsndQK3l",
        "outputId": "274e4cee-d906-4b47-d41e-2b03cc52c273"
      },
      "execution_count": null,
      "outputs": [
        {
          "output_type": "execute_result",
          "data": {
            "text/plain": [
              "0.6666666666666666"
            ]
          },
          "metadata": {},
          "execution_count": 88
        }
      ]
    },
    {
      "cell_type": "code",
      "source": [
        "def recall(y_pred, y):\n",
        "  conf_mat = confusion_matrix(y_pred, y)\n",
        "  tp = conf_mat[1][1]\n",
        "  fn = conf_mat[1][0]\n",
        "\n",
        "  return tp / (tp + fn)"
      ],
      "metadata": {
        "id": "OQ-9hu6NQneE"
      },
      "execution_count": null,
      "outputs": []
    },
    {
      "cell_type": "code",
      "source": [
        "recall_val = recall(y_pred, y)\n",
        "recall_val"
      ],
      "metadata": {
        "colab": {
          "base_uri": "https://localhost:8080/"
        },
        "id": "SmFhctM6Q25z",
        "outputId": "3e59a4e4-1a56-4b9e-fda9-ed6f2c1bd030"
      },
      "execution_count": null,
      "outputs": [
        {
          "output_type": "execute_result",
          "data": {
            "text/plain": [
              "0.8"
            ]
          },
          "metadata": {},
          "execution_count": 86
        }
      ]
    },
    {
      "cell_type": "code",
      "source": [
        "def f1_score(y_pred, y):\n",
        "    precision_val = precision(y_pred, y)\n",
        "    recall_val = recall(y_pred, y)\n",
        "    f1_score_val = 2 * (precision_val * recall_val) / (precision_val + recall_val)\n",
        "    return f1_score_val"
      ],
      "metadata": {
        "id": "lLdcMmsrQ7kl"
      },
      "execution_count": null,
      "outputs": []
    },
    {
      "cell_type": "code",
      "source": [
        "f1 = f1_score(y_pred, y)\n",
        "f1"
      ],
      "metadata": {
        "colab": {
          "base_uri": "https://localhost:8080/"
        },
        "id": "NiRmiAjoSPZX",
        "outputId": "dcdb30e4-2890-445a-c4ab-9dedae4c0364"
      },
      "execution_count": null,
      "outputs": [
        {
          "output_type": "execute_result",
          "data": {
            "text/plain": [
              "0.7272727272727272"
            ]
          },
          "metadata": {},
          "execution_count": 89
        }
      ]
    },
    {
      "cell_type": "markdown",
      "source": [
        "##Могла ли модель переобучиться? Почему?\n"
      ],
      "metadata": {
        "id": "2QnzbeZFTRdc"
      }
    },
    {
      "cell_type": "markdown",
      "source": [
        "Да, могла. Маленький размер набора данных, подстравивание под данные"
      ],
      "metadata": {
        "id": "fZnM19CoTS8o"
      }
    }
  ]
}